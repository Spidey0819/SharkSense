{
  "metadata": {
    "kernelspec": {
      "display_name": "Python 3",
      "name": "python3"
    },
    "language_info": {
      "pygments_lexer": "ipython3",
      "nbconvert_exporter": "python",
      "version": "3.6.4",
      "file_extension": ".py",
      "codemirror_mode": {
        "name": "ipython",
        "version": 3
      },
      "name": "python",
      "mimetype": "text/x-python"
    },
    "colab": {
      "provenance": [],
      "gpuType": "T4"
    },
    "accelerator": "GPU"
  },
  "nbformat_minor": 0,
  "nbformat": 4,
  "cells": [
    {
      "source": [
        "import torch\n",
        "import torch.nn as nn\n",
        "import torch.optim as optim\n",
        "from torchvision import datasets, transforms, models\n",
        "import matplotlib.pyplot as plt\n",
        "import numpy as np\n",
        "import time, copy\n",
        "from sklearn.utils.class_weight import compute_class_weight\n",
        "\n",
        "device = torch.device(\"cuda:0\" if torch.cuda.is_available() else \"cpu\")\n",
        "print(\"Using device:\", device)\n",
        "\n",
        "train_dir = '/content/drive/MyDrive/DLAProject/data/train'\n",
        "val_dir   = '/content/drive/MyDrive/DLAProject/data/val'\n",
        "test_dir  = '/content/drive/MyDrive/DLAProject/data/test'\n"
      ],
      "metadata": {
        "id": "1lSDVzdSm7Km",
        "colab": {
          "base_uri": "https://localhost:8080/"
        },
        "outputId": "248d5bf9-8b7b-49c7-de35-86d2ce2e1de8"
      },
      "cell_type": "code",
      "outputs": [
        {
          "output_type": "stream",
          "name": "stdout",
          "text": [
            "Using device: cpu\n"
          ]
        }
      ],
      "execution_count": null
    },
    {
      "cell_type": "code",
      "source": [
        "def convert_rgba_to_rgb(img):\n",
        "    return img.convert(\"RGBA\").convert(\"RGB\")\n",
        "\n",
        "data_transforms = {\n",
        "    'train': transforms.Compose([\n",
        "        transforms.Lambda(convert_rgba_to_rgb),\n",
        "        transforms.RandomResizedCrop(224),\n",
        "        transforms.RandomHorizontalFlip(),\n",
        "        transforms.RandomVerticalFlip(),\n",
        "        transforms.ColorJitter(brightness=0.2, contrast=0.2, saturation=0.2, hue=0.1),\n",
        "        transforms.RandomApply([transforms.GaussianBlur(kernel_size=(5,5), sigma=(0.1, 2.0))], p=0.5),\n",
        "        transforms.ToTensor(),\n",
        "        transforms.Normalize([0.485, 0.456, 0.406],\n",
        "                             [0.229, 0.224, 0.225])\n",
        "    ]),\n",
        "    'val': transforms.Compose([\n",
        "        transforms.Lambda(convert_rgba_to_rgb),\n",
        "        transforms.Resize(256),\n",
        "        transforms.CenterCrop(224),\n",
        "        transforms.ToTensor(),\n",
        "        transforms.Normalize([0.485, 0.456, 0.406],\n",
        "                             [0.229, 0.224, 0.225])\n",
        "    ]),\n",
        "    'test': transforms.Compose([\n",
        "        transforms.Lambda(convert_rgba_to_rgb),\n",
        "        transforms.Resize(256),\n",
        "        transforms.CenterCrop(224),\n",
        "        transforms.ToTensor(),\n",
        "        transforms.Normalize([0.485, 0.456, 0.406],\n",
        "                             [0.229, 0.224, 0.225])\n",
        "    ]),\n",
        "}\n",
        "\n",
        "# Create datasets\n",
        "train_dataset = datasets.ImageFolder(train_dir, transform=data_transforms['train'])\n",
        "val_dataset   = datasets.ImageFolder(val_dir, transform=data_transforms['val'])\n",
        "test_dataset  = datasets.ImageFolder(test_dir, transform=data_transforms['test'])\n",
        "\n",
        "# Create dataloaders\n",
        "batch_size = 32\n",
        "train_loader = torch.utils.data.DataLoader(train_dataset, batch_size=batch_size, shuffle=True, num_workers=2)\n",
        "val_loader   = torch.utils.data.DataLoader(val_dataset, batch_size=batch_size, shuffle=False, num_workers=2)\n",
        "test_loader  = torch.utils.data.DataLoader(test_dataset, batch_size=batch_size, shuffle=False, num_workers=2)\n",
        "\n",
        "class_labels = train_dataset.classes\n",
        "print(\"Class labels:\", class_labels)"
      ],
      "metadata": {
        "_uuid": "8f2839f25d086af736a60e9eeb907d3b93b6e0e5",
        "_cell_guid": "b1076dfc-b9ad-4769-8c92-a6c4dae69d19",
        "execution": {
          "iopub.status.busy": "2023-11-09T22:56:42.183449Z",
          "iopub.execute_input": "2023-11-09T22:56:42.18389Z",
          "iopub.status.idle": "2023-11-09T22:56:42.191707Z",
          "shell.execute_reply.started": "2023-11-09T22:56:42.183856Z",
          "shell.execute_reply": "2023-11-09T22:56:42.19084Z"
        },
        "trusted": true,
        "id": "RLgJOeN2m7Kn",
        "colab": {
          "base_uri": "https://localhost:8080/"
        },
        "outputId": "54955787-8e77-4aea-d862-b2107780966b"
      },
      "execution_count": null,
      "outputs": [
        {
          "output_type": "stream",
          "name": "stdout",
          "text": [
            "Class labels: ['basking', 'blacktip', 'blue', 'bull', 'hammerhead', 'lemon', 'mako', 'nurse', 'sand tiger', 'thresher', 'tiger', 'whale', 'white', 'whitetip']\n"
          ]
        }
      ]
    },
    {
      "cell_type": "code",
      "source": [
        "model = models.resnet50(pretrained=True)\n",
        "num_ftrs = model.fc.in_features\n",
        "num_classes = len(class_labels)\n",
        "model.fc = nn.Linear(num_ftrs, num_classes)\n",
        "model = model.to(device)\n",
        "\n",
        "\n",
        "try:\n",
        "    state_dict_phase1 = torch.load(\"/content/drive/MyDrive/model_phase1_3class.pth\", map_location=device, weights_only=True)\n",
        "except TypeError:\n",
        "    state_dict_phase1 = torch.load(\"model_phase1_3class.pth\", map_location=device)\n",
        "\n",
        "state_dict_phase1.pop('fc.weight', None)\n",
        "state_dict_phase1.pop('fc.bias', None)\n",
        "model.load_state_dict(state_dict_phase1, strict=False)\n"
      ],
      "metadata": {
        "execution": {
          "iopub.status.busy": "2023-11-09T22:56:42.193362Z",
          "iopub.execute_input": "2023-11-09T22:56:42.193723Z",
          "iopub.status.idle": "2023-11-09T22:56:42.206667Z",
          "shell.execute_reply.started": "2023-11-09T22:56:42.193687Z",
          "shell.execute_reply": "2023-11-09T22:56:42.205729Z"
        },
        "trusted": true,
        "id": "NbZbAMxgm7Ko",
        "colab": {
          "base_uri": "https://localhost:8080/"
        },
        "outputId": "9656c16a-69d4-490e-a00d-4c88ba1671c0"
      },
      "execution_count": null,
      "outputs": [
        {
          "output_type": "execute_result",
          "data": {
            "text/plain": [
              "_IncompatibleKeys(missing_keys=['fc.weight', 'fc.bias'], unexpected_keys=[])"
            ]
          },
          "metadata": {},
          "execution_count": 12
        }
      ]
    },
    {
      "cell_type": "code",
      "source": [
        "from google.colab import drive\n",
        "drive.mount('/content/drive')"
      ],
      "metadata": {
        "colab": {
          "base_uri": "https://localhost:8080/"
        },
        "id": "5vyNahYXUtkm",
        "outputId": "d4829705-fdcd-43cb-ef99-c510bc46778a"
      },
      "execution_count": null,
      "outputs": [
        {
          "output_type": "stream",
          "name": "stdout",
          "text": [
            "Drive already mounted at /content/drive; to attempt to forcibly remount, call drive.mount(\"/content/drive\", force_remount=True).\n"
          ]
        }
      ]
    },
    {
      "cell_type": "code",
      "source": [
        "targets = np.array(train_dataset.targets)\n",
        "classes = np.unique(targets)\n",
        "class_weights_np = compute_class_weight(class_weight='balanced', classes=classes, y=targets)\n",
        "class_weights = torch.FloatTensor(class_weights_np).to(device)\n",
        "print(\"Computed class weights:\", class_weights)\n",
        "\n",
        "criterion = nn.CrossEntropyLoss(weight=class_weights)\n",
        "\n",
        "optimizer = optim.Adam([\n",
        "    {\"params\": model.fc.parameters(), \"lr\": 1e-3},\n",
        "    {\"params\": [param for name, param in model.named_parameters() if \"fc\" not in name], \"lr\": 1e-4}\n",
        "], weight_decay=1e-4)\n",
        "\n",
        "steps_per_epoch = len(train_loader)\n",
        "num_epochs = 50\n",
        "total_steps = steps_per_epoch * num_epochs\n",
        "scheduler = torch.optim.lr_scheduler.OneCycleLR(\n",
        "    optimizer,\n",
        "    max_lr=[1e-3, 1e-4],\n",
        "    total_steps=total_steps,\n",
        "    pct_start=0.3,\n",
        "    anneal_strategy='cos',\n",
        "    cycle_momentum=False\n",
        ")"
      ],
      "metadata": {
        "execution": {
          "iopub.status.busy": "2023-11-09T22:56:42.208436Z",
          "iopub.execute_input": "2023-11-09T22:56:42.209183Z",
          "iopub.status.idle": "2023-11-09T22:56:42.239915Z",
          "shell.execute_reply.started": "2023-11-09T22:56:42.209142Z",
          "shell.execute_reply": "2023-11-09T22:56:42.23923Z"
        },
        "trusted": true,
        "id": "T57Ne4Qem7Ko",
        "colab": {
          "base_uri": "https://localhost:8080/"
        },
        "outputId": "fb984401-8025-412b-afe1-f4f79b4862f9"
      },
      "execution_count": null,
      "outputs": [
        {
          "output_type": "stream",
          "name": "stdout",
          "text": [
            "Computed class weights: tensor([1.1931, 0.9702, 1.0387, 1.0148, 0.8741, 0.9293, 1.1036, 1.4014, 1.1466,\n",
            "        0.9392, 1.1466, 0.8408, 0.8251, 0.8829])\n"
          ]
        }
      ]
    },
    {
      "cell_type": "code",
      "source": [
        "train_losses = []\n",
        "val_losses = []\n",
        "\n",
        "def train_model_onecycle(model, criterion, optimizer, scheduler, num_epochs):\n",
        "    best_model_wts = copy.deepcopy(model.state_dict())\n",
        "    best_acc = 0.0\n",
        "\n",
        "    for epoch in range(num_epochs):\n",
        "        print(f\"Epoch {epoch+1}/{num_epochs}\")\n",
        "        print(\"-\" * 10)\n",
        "\n",
        "        model.train()\n",
        "        running_loss = 0.0\n",
        "        running_corrects = 0\n",
        "        for inputs, labels in train_loader:\n",
        "            inputs = inputs.to(device)\n",
        "            labels = labels.to(device)\n",
        "\n",
        "            optimizer.zero_grad()\n",
        "            outputs = model(inputs)\n",
        "            loss = criterion(outputs, labels)\n",
        "            _, preds = torch.max(outputs, 1)\n",
        "            loss.backward()\n",
        "            optimizer.step()\n",
        "            scheduler.step()\n",
        "            running_loss += loss.item() * inputs.size(0)\n",
        "            running_corrects += torch.sum(preds == labels.data)\n",
        "\n",
        "        epoch_loss = running_loss / len(train_dataset)\n",
        "        epoch_acc = running_corrects.double() / len(train_dataset)\n",
        "        train_losses.append(epoch_loss)\n",
        "\n",
        "        model.eval()\n",
        "        running_loss_val = 0.0\n",
        "        running_corrects_val = 0\n",
        "        with torch.no_grad():\n",
        "            for inputs, labels in val_loader:\n",
        "                inputs = inputs.to(device)\n",
        "                labels = labels.to(device)\n",
        "                outputs = model(inputs)\n",
        "                loss = criterion(outputs, labels)\n",
        "                _, preds = torch.max(outputs, 1)\n",
        "                running_loss_val += loss.item() * inputs.size(0)\n",
        "                running_corrects_val += torch.sum(preds == labels.data)\n",
        "\n",
        "        epoch_loss_val = running_loss_val / len(val_dataset)\n",
        "        epoch_acc_val = running_corrects_val.double() / len(val_dataset)\n",
        "        val_losses.append(epoch_loss_val)\n",
        "\n",
        "        print(f\"Train Loss: {epoch_loss:.4f} Acc: {epoch_acc:.4f}\")\n",
        "        print(f\"Val Loss:   {epoch_loss_val:.4f} Acc: {epoch_acc_val:.4f}\")\n",
        "\n",
        "        if epoch_acc_val > best_acc:\n",
        "            best_acc = epoch_acc_val\n",
        "            best_model_wts = copy.deepcopy(model.state_dict())\n",
        "\n",
        "        print()\n",
        "\n",
        "    print(f\"Training complete. Best Val Acc: {best_acc:.4f}\")\n",
        "    model.load_state_dict(best_model_wts)\n",
        "    return model\n",
        "\n",
        "model = train_model_onecycle(model, criterion, optimizer, scheduler, num_epochs)\n",
        "\n",
        "# Plot training and validation losses\n",
        "plt.figure(figsize=(8,6))\n",
        "plt.plot(train_losses, label=\"Training Loss\")\n",
        "plt.plot(val_losses, label=\"Validation Loss\")\n",
        "plt.xlabel(\"Epochs\")\n",
        "plt.ylabel(\"Loss\")\n",
        "plt.title(\"Loss over Epochs\")\n",
        "plt.legend()\n",
        "plt.show()"
      ],
      "metadata": {
        "colab": {
          "base_uri": "https://localhost:8080/"
        },
        "id": "3d45ZXLRnqF2",
        "outputId": "c3044a2d-819c-401c-ac5e-36b3c394869b"
      },
      "execution_count": null,
      "outputs": [
        {
          "output_type": "stream",
          "name": "stdout",
          "text": [
            "Epoch 1/50\n",
            "----------\n"
          ]
        },
        {
          "output_type": "stream",
          "name": "stderr",
          "text": [
            "/usr/local/lib/python3.11/dist-packages/PIL/Image.py:1045: UserWarning: Palette images with Transparency expressed in bytes should be converted to RGBA images\n",
            "  warnings.warn(\n",
            "/usr/local/lib/python3.11/dist-packages/PIL/Image.py:1045: UserWarning: Palette images with Transparency expressed in bytes should be converted to RGBA images\n",
            "  warnings.warn(\n"
          ]
        },
        {
          "output_type": "stream",
          "name": "stdout",
          "text": [
            "Train Loss: 2.5666 Acc: 0.1489\n",
            "Val Loss:   2.3660 Acc: 0.3041\n",
            "\n",
            "Epoch 2/50\n",
            "----------\n"
          ]
        },
        {
          "output_type": "stream",
          "name": "stderr",
          "text": [
            "/usr/local/lib/python3.11/dist-packages/PIL/Image.py:1045: UserWarning: Palette images with Transparency expressed in bytes should be converted to RGBA images\n",
            "  warnings.warn(\n",
            "/usr/local/lib/python3.11/dist-packages/PIL/Image.py:1045: UserWarning: Palette images with Transparency expressed in bytes should be converted to RGBA images\n",
            "  warnings.warn(\n"
          ]
        },
        {
          "output_type": "stream",
          "name": "stdout",
          "text": [
            "Train Loss: 2.3217 Acc: 0.2937\n",
            "Val Loss:   2.0623 Acc: 0.4122\n",
            "\n",
            "Epoch 3/50\n",
            "----------\n"
          ]
        },
        {
          "output_type": "stream",
          "name": "stderr",
          "text": [
            "/usr/local/lib/python3.11/dist-packages/PIL/Image.py:1045: UserWarning: Palette images with Transparency expressed in bytes should be converted to RGBA images\n",
            "  warnings.warn(\n"
          ]
        },
        {
          "output_type": "stream",
          "name": "stdout",
          "text": [
            "Train Loss: 2.0886 Acc: 0.3430\n",
            "Val Loss:   1.7476 Acc: 0.5473\n",
            "\n",
            "Epoch 4/50\n",
            "----------\n"
          ]
        },
        {
          "output_type": "stream",
          "name": "stderr",
          "text": [
            "/usr/local/lib/python3.11/dist-packages/PIL/Image.py:1045: UserWarning: Palette images with Transparency expressed in bytes should be converted to RGBA images\n",
            "  warnings.warn(\n"
          ]
        }
      ]
    },
    {
      "cell_type": "code",
      "source": [
        "def imshow(inp, title=None):\n",
        "    \"\"\"Imshow for Tensor.\"\"\"\n",
        "    inp = inp.cpu().numpy().transpose((1, 2, 0))\n",
        "    mean = np.array([0.485, 0.456, 0.406])\n",
        "    std  = np.array([0.229, 0.224, 0.225])\n",
        "    inp  = std * inp + mean\n",
        "    inp  = np.clip(inp, 0, 1)\n",
        "    plt.imshow(inp)\n",
        "    if title:\n",
        "        plt.title(title)\n",
        "    plt.pause(0.001)\n",
        "\n",
        "def plot_sample_predictions(model, test_loader, class_labels, num_samples=9):\n",
        "    model.eval()\n",
        "    # Get one batch from test loader\n",
        "    inputs, labels = next(iter(test_loader))\n",
        "    inputs = inputs.to(device)\n",
        "\n",
        "    with torch.no_grad():\n",
        "        outputs = model(inputs)\n",
        "        probs = torch.nn.functional.softmax(outputs, dim=1)\n",
        "    preds = torch.argmax(probs, dim=1)\n",
        "\n",
        "    # Bring tensors to CPU for plotting\n",
        "    inputs = inputs.cpu()\n",
        "    probs = probs.cpu().numpy()\n",
        "    preds = preds.cpu().numpy()\n",
        "    labels = labels.cpu().numpy()\n",
        "\n",
        "    plt.figure(figsize=(15, 15))\n",
        "    for i in range(min(num_samples, inputs.size(0))):\n",
        "        ax = plt.subplot(3, 3, i + 1)\n",
        "        imshow(inputs[i])\n",
        "        true_class = class_labels[labels[i]]\n",
        "        pred_class = class_labels[preds[i]]\n",
        "        confidence = probs[i][preds[i]] * 100\n",
        "        ax.set_title(f\"True: {true_class}\\nPred: {pred_class}\\nConf: {confidence:.1f}%\", fontsize=10)\n",
        "        ax.axis(\"off\")\n",
        "    plt.tight_layout()\n",
        "    plt.show()\n",
        "\n",
        "plot_sample_predictions(model, test_loader, class_labels)\n"
      ],
      "metadata": {
        "execution": {
          "iopub.status.busy": "2023-11-09T22:56:42.240863Z",
          "iopub.execute_input": "2023-11-09T22:56:42.241099Z",
          "iopub.status.idle": "2023-11-09T22:56:42.246648Z",
          "shell.execute_reply.started": "2023-11-09T22:56:42.241078Z",
          "shell.execute_reply": "2023-11-09T22:56:42.245806Z"
        },
        "trusted": true,
        "id": "K4ljWupnm7Ko",
        "colab": {
          "base_uri": "https://localhost:8080/"
        },
        "outputId": "4a7602cd-99e9-4261-cb51-28ec1a2822ed"
      },
      "execution_count": null,
      "outputs": [
        {
          "output_type": "stream",
          "name": "stdout",
          "text": [
            "Full dataset classes (14): ['basking', 'blacktip', 'blue', 'bull', 'hammerhead', 'lemon', 'mako', 'nurse', 'sand tiger', 'thresher', 'tiger', 'whale', 'white', 'whitetip']\n"
          ]
        },
        {
          "output_type": "stream",
          "name": "stderr",
          "text": [
            "<ipython-input-15-13dab496df97>:11: FutureWarning: You are using `torch.load` with `weights_only=False` (the current default value), which uses the default pickle module implicitly. It is possible to construct malicious pickle data which will execute arbitrary code during unpickling (See https://github.com/pytorch/pytorch/blob/main/SECURITY.md#untrusted-models for more details). In a future release, the default value for `weights_only` will be flipped to `True`. This limits the functions that could be executed during unpickling. Arbitrary objects will no longer be allowed to be loaded via this mode unless they are explicitly allowlisted by the user via `torch.serialization.add_safe_globals`. We recommend you start setting `weights_only=True` for any use case where you don't have full control of the loaded file. Please open an issue on GitHub for any issues related to this experimental feature.\n",
            "  state_dict_phase1 = torch.load(\"model_phase1_3class.pth\", map_location=device)\n"
          ]
        },
        {
          "output_type": "stream",
          "name": "stdout",
          "text": [
            "Computed class weights: tensor([1.1931, 0.9702, 1.0387, 1.0148, 0.8741, 0.9293, 1.1036, 1.4014, 1.1466,\n",
            "        0.9392, 1.1466, 0.8408, 0.8251, 0.8829], device='cuda:0')\n",
            "Starting Phase 2 Training on full dataset...\n",
            "Epoch 1/20\n",
            "----------\n"
          ]
        },
        {
          "output_type": "stream",
          "name": "stderr",
          "text": [
            "/usr/local/lib/python3.11/dist-packages/PIL/Image.py:1045: UserWarning: Palette images with Transparency expressed in bytes should be converted to RGBA images\n",
            "  warnings.warn(\n",
            "/usr/local/lib/python3.11/dist-packages/PIL/Image.py:1045: UserWarning: Palette images with Transparency expressed in bytes should be converted to RGBA images\n",
            "  warnings.warn(\n"
          ]
        },
        {
          "output_type": "stream",
          "name": "stdout",
          "text": [
            "train Loss: 2.0205 Acc: 0.3350\n",
            "val Loss: 1.3751 Acc: 0.5338\n",
            "\n",
            "Epoch 2/20\n",
            "----------\n"
          ]
        },
        {
          "output_type": "stream",
          "name": "stderr",
          "text": [
            "/usr/local/lib/python3.11/dist-packages/PIL/Image.py:1045: UserWarning: Palette images with Transparency expressed in bytes should be converted to RGBA images\n",
            "  warnings.warn(\n"
          ]
        },
        {
          "output_type": "stream",
          "name": "stdout",
          "text": [
            "train Loss: 1.4475 Acc: 0.5243\n",
            "val Loss: 0.9678 Acc: 0.6554\n",
            "\n",
            "Epoch 3/20\n",
            "----------\n"
          ]
        },
        {
          "output_type": "stream",
          "name": "stderr",
          "text": [
            "/usr/local/lib/python3.11/dist-packages/PIL/Image.py:1045: UserWarning: Palette images with Transparency expressed in bytes should be converted to RGBA images\n",
            "  warnings.warn(\n",
            "/usr/local/lib/python3.11/dist-packages/PIL/Image.py:1045: UserWarning: Palette images with Transparency expressed in bytes should be converted to RGBA images\n",
            "  warnings.warn(\n"
          ]
        },
        {
          "output_type": "stream",
          "name": "stdout",
          "text": [
            "train Loss: 1.1970 Acc: 0.6125\n",
            "val Loss: 1.0185 Acc: 0.6486\n",
            "\n",
            "Epoch 4/20\n",
            "----------\n"
          ]
        },
        {
          "output_type": "stream",
          "name": "stderr",
          "text": [
            "/usr/local/lib/python3.11/dist-packages/PIL/Image.py:1045: UserWarning: Palette images with Transparency expressed in bytes should be converted to RGBA images\n",
            "  warnings.warn(\n",
            "/usr/local/lib/python3.11/dist-packages/PIL/Image.py:1045: UserWarning: Palette images with Transparency expressed in bytes should be converted to RGBA images\n",
            "  warnings.warn(\n"
          ]
        },
        {
          "output_type": "stream",
          "name": "stdout",
          "text": [
            "train Loss: 1.0972 Acc: 0.6408\n",
            "val Loss: 0.7322 Acc: 0.7432\n",
            "\n",
            "Epoch 5/20\n",
            "----------\n"
          ]
        },
        {
          "output_type": "stream",
          "name": "stderr",
          "text": [
            "/usr/local/lib/python3.11/dist-packages/PIL/Image.py:1045: UserWarning: Palette images with Transparency expressed in bytes should be converted to RGBA images\n",
            "  warnings.warn(\n"
          ]
        },
        {
          "output_type": "stream",
          "name": "stdout",
          "text": [
            "train Loss: 0.9145 Acc: 0.7063\n",
            "val Loss: 0.5546 Acc: 0.8176\n",
            "\n",
            "Epoch 6/20\n",
            "----------\n"
          ]
        },
        {
          "output_type": "stream",
          "name": "stderr",
          "text": [
            "/usr/local/lib/python3.11/dist-packages/PIL/Image.py:1045: UserWarning: Palette images with Transparency expressed in bytes should be converted to RGBA images\n",
            "  warnings.warn(\n"
          ]
        },
        {
          "output_type": "stream",
          "name": "stdout",
          "text": [
            "train Loss: 0.7837 Acc: 0.7395\n",
            "val Loss: 0.5429 Acc: 0.8176\n",
            "\n",
            "Epoch 7/20\n",
            "----------\n"
          ]
        },
        {
          "output_type": "stream",
          "name": "stderr",
          "text": [
            "/usr/local/lib/python3.11/dist-packages/PIL/Image.py:1045: UserWarning: Palette images with Transparency expressed in bytes should be converted to RGBA images\n",
            "  warnings.warn(\n",
            "/usr/local/lib/python3.11/dist-packages/PIL/Image.py:1045: UserWarning: Palette images with Transparency expressed in bytes should be converted to RGBA images\n",
            "  warnings.warn(\n"
          ]
        },
        {
          "output_type": "stream",
          "name": "stdout",
          "text": [
            "train Loss: 0.7029 Acc: 0.7694\n",
            "val Loss: 0.3487 Acc: 0.8784\n",
            "\n",
            "Epoch 8/20\n",
            "----------\n"
          ]
        },
        {
          "output_type": "stream",
          "name": "stderr",
          "text": [
            "/usr/local/lib/python3.11/dist-packages/PIL/Image.py:1045: UserWarning: Palette images with Transparency expressed in bytes should be converted to RGBA images\n",
            "  warnings.warn(\n",
            "/usr/local/lib/python3.11/dist-packages/PIL/Image.py:1045: UserWarning: Palette images with Transparency expressed in bytes should be converted to RGBA images\n",
            "  warnings.warn(\n"
          ]
        },
        {
          "output_type": "stream",
          "name": "stdout",
          "text": [
            "train Loss: 0.6410 Acc: 0.7880\n",
            "val Loss: 0.4352 Acc: 0.8581\n",
            "\n",
            "Epoch 9/20\n",
            "----------\n"
          ]
        },
        {
          "output_type": "stream",
          "name": "stderr",
          "text": [
            "/usr/local/lib/python3.11/dist-packages/PIL/Image.py:1045: UserWarning: Palette images with Transparency expressed in bytes should be converted to RGBA images\n",
            "  warnings.warn(\n",
            "/usr/local/lib/python3.11/dist-packages/PIL/Image.py:1045: UserWarning: Palette images with Transparency expressed in bytes should be converted to RGBA images\n",
            "  warnings.warn(\n"
          ]
        },
        {
          "output_type": "stream",
          "name": "stdout",
          "text": [
            "train Loss: 0.5915 Acc: 0.8083\n",
            "val Loss: 0.4834 Acc: 0.8176\n",
            "\n",
            "Epoch 10/20\n",
            "----------\n"
          ]
        },
        {
          "output_type": "stream",
          "name": "stderr",
          "text": [
            "/usr/local/lib/python3.11/dist-packages/PIL/Image.py:1045: UserWarning: Palette images with Transparency expressed in bytes should be converted to RGBA images\n",
            "  warnings.warn(\n"
          ]
        },
        {
          "output_type": "stream",
          "name": "stdout",
          "text": [
            "train Loss: 0.5205 Acc: 0.8285\n",
            "val Loss: 0.3791 Acc: 0.8784\n",
            "\n",
            "Epoch 11/20\n",
            "----------\n"
          ]
        },
        {
          "output_type": "stream",
          "name": "stderr",
          "text": [
            "/usr/local/lib/python3.11/dist-packages/PIL/Image.py:1045: UserWarning: Palette images with Transparency expressed in bytes should be converted to RGBA images\n",
            "  warnings.warn(\n"
          ]
        },
        {
          "output_type": "stream",
          "name": "stdout",
          "text": [
            "train Loss: 0.5203 Acc: 0.8341\n",
            "val Loss: 0.3584 Acc: 0.8649\n",
            "\n",
            "Epoch 12/20\n",
            "----------\n"
          ]
        },
        {
          "output_type": "stream",
          "name": "stderr",
          "text": [
            "/usr/local/lib/python3.11/dist-packages/PIL/Image.py:1045: UserWarning: Palette images with Transparency expressed in bytes should be converted to RGBA images\n",
            "  warnings.warn(\n"
          ]
        },
        {
          "output_type": "stream",
          "name": "stdout",
          "text": [
            "train Loss: 0.4454 Acc: 0.8633\n",
            "val Loss: 0.3287 Acc: 0.9054\n",
            "\n",
            "Epoch 13/20\n",
            "----------\n"
          ]
        },
        {
          "output_type": "stream",
          "name": "stderr",
          "text": [
            "/usr/local/lib/python3.11/dist-packages/PIL/Image.py:1045: UserWarning: Palette images with Transparency expressed in bytes should be converted to RGBA images\n",
            "  warnings.warn(\n"
          ]
        },
        {
          "output_type": "stream",
          "name": "stdout",
          "text": [
            "train Loss: 0.4600 Acc: 0.8568\n",
            "val Loss: 0.3131 Acc: 0.8649\n",
            "\n",
            "Epoch 14/20\n",
            "----------\n"
          ]
        },
        {
          "output_type": "stream",
          "name": "stderr",
          "text": [
            "/usr/local/lib/python3.11/dist-packages/PIL/Image.py:1045: UserWarning: Palette images with Transparency expressed in bytes should be converted to RGBA images\n",
            "  warnings.warn(\n",
            "/usr/local/lib/python3.11/dist-packages/PIL/Image.py:1045: UserWarning: Palette images with Transparency expressed in bytes should be converted to RGBA images\n",
            "  warnings.warn(\n"
          ]
        },
        {
          "output_type": "stream",
          "name": "stdout",
          "text": [
            "train Loss: 0.3477 Acc: 0.8883\n",
            "val Loss: 0.2994 Acc: 0.8851\n",
            "\n",
            "Epoch 15/20\n",
            "----------\n"
          ]
        },
        {
          "output_type": "stream",
          "name": "stderr",
          "text": [
            "/usr/local/lib/python3.11/dist-packages/PIL/Image.py:1045: UserWarning: Palette images with Transparency expressed in bytes should be converted to RGBA images\n",
            "  warnings.warn(\n",
            "/usr/local/lib/python3.11/dist-packages/PIL/Image.py:1045: UserWarning: Palette images with Transparency expressed in bytes should be converted to RGBA images\n",
            "  warnings.warn(\n"
          ]
        },
        {
          "output_type": "stream",
          "name": "stdout",
          "text": [
            "train Loss: 0.3472 Acc: 0.8924\n",
            "val Loss: 0.2621 Acc: 0.9054\n",
            "\n",
            "Epoch 16/20\n",
            "----------\n"
          ]
        },
        {
          "output_type": "stream",
          "name": "stderr",
          "text": [
            "/usr/local/lib/python3.11/dist-packages/PIL/Image.py:1045: UserWarning: Palette images with Transparency expressed in bytes should be converted to RGBA images\n",
            "  warnings.warn(\n",
            "/usr/local/lib/python3.11/dist-packages/PIL/Image.py:1045: UserWarning: Palette images with Transparency expressed in bytes should be converted to RGBA images\n",
            "  warnings.warn(\n"
          ]
        },
        {
          "output_type": "stream",
          "name": "stdout",
          "text": [
            "train Loss: 0.3130 Acc: 0.9029\n",
            "val Loss: 0.2692 Acc: 0.8986\n",
            "\n",
            "Epoch 17/20\n",
            "----------\n"
          ]
        },
        {
          "output_type": "stream",
          "name": "stderr",
          "text": [
            "/usr/local/lib/python3.11/dist-packages/PIL/Image.py:1045: UserWarning: Palette images with Transparency expressed in bytes should be converted to RGBA images\n",
            "  warnings.warn(\n",
            "/usr/local/lib/python3.11/dist-packages/PIL/Image.py:1045: UserWarning: Palette images with Transparency expressed in bytes should be converted to RGBA images\n",
            "  warnings.warn(\n"
          ]
        },
        {
          "output_type": "stream",
          "name": "stdout",
          "text": [
            "train Loss: 0.3234 Acc: 0.9037\n",
            "val Loss: 0.2720 Acc: 0.8851\n",
            "\n",
            "Epoch 18/20\n",
            "----------\n"
          ]
        },
        {
          "output_type": "stream",
          "name": "stderr",
          "text": [
            "/usr/local/lib/python3.11/dist-packages/PIL/Image.py:1045: UserWarning: Palette images with Transparency expressed in bytes should be converted to RGBA images\n",
            "  warnings.warn(\n"
          ]
        },
        {
          "output_type": "stream",
          "name": "stdout",
          "text": [
            "train Loss: 0.2936 Acc: 0.9086\n",
            "val Loss: 0.2595 Acc: 0.8851\n",
            "\n",
            "Epoch 19/20\n",
            "----------\n"
          ]
        },
        {
          "output_type": "stream",
          "name": "stderr",
          "text": [
            "/usr/local/lib/python3.11/dist-packages/PIL/Image.py:1045: UserWarning: Palette images with Transparency expressed in bytes should be converted to RGBA images\n",
            "  warnings.warn(\n"
          ]
        },
        {
          "output_type": "stream",
          "name": "stdout",
          "text": [
            "train Loss: 0.3218 Acc: 0.9013\n",
            "val Loss: 0.2639 Acc: 0.8851\n",
            "\n",
            "Epoch 20/20\n",
            "----------\n"
          ]
        },
        {
          "output_type": "stream",
          "name": "stderr",
          "text": [
            "/usr/local/lib/python3.11/dist-packages/PIL/Image.py:1045: UserWarning: Palette images with Transparency expressed in bytes should be converted to RGBA images\n",
            "  warnings.warn(\n"
          ]
        },
        {
          "output_type": "stream",
          "name": "stdout",
          "text": [
            "train Loss: 0.3106 Acc: 0.9086\n",
            "val Loss: 0.2504 Acc: 0.8784\n",
            "\n",
            "Training complete in 15m 25s\n",
            "Best val Acc: 0.9054\n",
            "Phase 2 training complete and model saved as 'model_phase2_full_V1.pth'.\n"
          ]
        }
      ]
    },
    {
      "cell_type": "code",
      "source": [
        "model_phase2.eval()\n",
        "all_preds = []\n",
        "all_labels = []\n",
        "\n",
        "with torch.no_grad():\n",
        "    for inputs, labels in test_loader_full:\n",
        "        inputs = inputs.to(device)\n",
        "        labels = labels.to(device)\n",
        "        outputs = model_phase2(inputs)\n",
        "        _, preds = torch.max(outputs, 1)\n",
        "        all_preds.extend(preds.cpu().numpy())\n",
        "        all_labels.extend(labels.cpu().numpy())\n",
        "\n",
        "all_preds = np.array(all_preds)\n",
        "all_labels = np.array(all_labels)\n",
        "\n",
        "print(\"Test Classification Report:\")\n",
        "print(classification_report(all_labels, all_preds, target_names=train_dataset_full.classes))\n",
        "\n",
        "cm = confusion_matrix(all_labels, all_preds)\n",
        "plt.figure(figsize=(10,8))\n",
        "plt.imshow(cm, interpolation='nearest', cmap=plt.cm.Blues)\n",
        "plt.title(\"Confusion Matrix\")\n",
        "plt.colorbar()\n",
        "tick_marks = np.arange(num_full_classes)\n",
        "plt.xticks(tick_marks, train_dataset_full.classes, rotation=45)\n",
        "plt.yticks(tick_marks, train_dataset_full.classes)\n",
        "plt.tight_layout()\n",
        "plt.ylabel('True label')\n",
        "plt.xlabel('Predicted label')\n",
        "plt.show()"
      ],
      "metadata": {
        "execution": {
          "iopub.status.busy": "2023-11-09T22:56:42.248696Z",
          "iopub.execute_input": "2023-11-09T22:56:42.248956Z",
          "iopub.status.idle": "2023-11-09T22:56:42.687135Z",
          "shell.execute_reply.started": "2023-11-09T22:56:42.248934Z",
          "shell.execute_reply": "2023-11-09T22:56:42.686188Z"
        },
        "trusted": true,
        "id": "MjFosOydm7Ko",
        "colab": {
          "base_uri": "https://localhost:8080/",
          "height": 1000
        },
        "outputId": "79df0b50-3ad4-4e92-9b39-63482c0ed1b6"
      },
      "execution_count": null,
      "outputs": [
        {
          "output_type": "stream",
          "name": "stdout",
          "text": [
            "Test Classification Report:\n",
            "              precision    recall  f1-score   support\n",
            "\n",
            "     basking       0.91      1.00      0.95        10\n",
            "    blacktip       0.82      0.75      0.78        12\n",
            "        blue       0.85      0.92      0.88        12\n",
            "        bull       0.67      0.73      0.70        11\n",
            "  hammerhead       1.00      0.86      0.92        14\n",
            "       lemon       0.90      0.69      0.78        13\n",
            "        mako       0.83      0.91      0.87        11\n",
            "       nurse       1.00      1.00      1.00         8\n",
            "  sand tiger       0.77      0.91      0.83        11\n",
            "    thresher       1.00      0.92      0.96        13\n",
            "       tiger       0.77      0.91      0.83        11\n",
            "       whale       1.00      0.93      0.96        14\n",
            "       white       0.93      1.00      0.97        14\n",
            "    whitetip       0.92      0.85      0.88        13\n",
            "\n",
            "    accuracy                           0.88       167\n",
            "   macro avg       0.88      0.88      0.88       167\n",
            "weighted avg       0.89      0.88      0.88       167\n",
            "\n"
          ]
        },
        {
          "output_type": "display_data",
          "data": {
            "text/plain": [
              "<Figure size 1000x800 with 2 Axes>"
            ],
            "image/png": "[encoded data removed]"
          },
          "metadata": {}
        }
      ]
    },
    {
      "cell_type": "code",
      "source": [
        "image_path='/content/drive/MyDrive/DLAProject/data/test/blue/00000003.jpg'\n",
        "def predict_image(image_path, model, device, transform, class_names):\n",
        "    \"\"\"\n",
        "    Load an image, apply transforms, and print the predicted class.\n",
        "    \"\"\"\n",
        "    from PIL import Image\n",
        "    image = Image.open(image_path).convert('RGB')\n",
        "    image = transform(image).unsqueeze(0).to(device)\n",
        "    model.eval()\n",
        "    with torch.no_grad():\n",
        "        outputs = model(image)\n",
        "        _, preds = torch.max(outputs, 1)\n",
        "    print(\"Predicted class:\", class_names[preds.item()])\n"
      ],
      "metadata": {
        "execution": {
          "iopub.status.busy": "2023-11-09T22:56:42.688366Z",
          "iopub.execute_input": "2023-11-09T22:56:42.688655Z",
          "iopub.status.idle": "2023-11-09T22:56:42.709267Z",
          "shell.execute_reply.started": "2023-11-09T22:56:42.688631Z",
          "shell.execute_reply": "2023-11-09T22:56:42.708369Z"
        },
        "trusted": true,
        "id": "we57hfLLm7Ko"
      },
      "execution_count": null,
      "outputs": []
    }
  ]
}